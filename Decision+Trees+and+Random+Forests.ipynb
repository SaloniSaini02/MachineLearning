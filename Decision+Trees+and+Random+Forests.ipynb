{
 "cells": [
  {
   "cell_type": "markdown",
   "metadata": {},
   "source": [
    "Total points for this HW: 100.\n",
    "\n",
    "Please note: Copying and pasting other people's work is absolutely prohibited.  Any such cases will be reported to CUSP's education team and severely punished. Discussion is encouraged, and feel free to exchange ideas with your classmates, but please write your own code and do your own work."
   ]
  },
  {
   "cell_type": "markdown",
   "metadata": {
    "collapsed": true
   },
   "source": [
    "### Question 1: Accuracy and interpretability (10 pts)\n",
    "\n",
    "a) Describe a real-world prediction problem using urban data for which _interpretability_ of your models and results is essential, and for which it might be preferable to use decision trees rather than random forests.  Argue why this is the case. (3 pts)\n",
    "\n",
    "\n",
    "One advantage of decision tree is that it is easy to interpret the results. Whereas their disadvantage is that they tend to overfit especially when the dataset is large or there are numerous features. A real world example is a classification problem to diagnose a medical condition based on symptoms of patients.The features would be the conditions of the patient like blood pressure or heart rate and the model predicts a diagnosis of the patient.In such problems  interpretabilty of the model and result is essential beacuse it allows us to verify how the model will take decisions for previosly unseen data.Interpretabilty is important in healthcare because the models are being used for patient care and it will help understand the diagnosis, treatment options and make better decisions. "
   ]
  },
  {
   "cell_type": "markdown",
   "metadata": {},
   "source": [
    "Your answer here."
   ]
  },
  {
   "cell_type": "markdown",
   "metadata": {},
   "source": [
    "b) Describe a real-world prediction problem using urban data for which _accuracy_ is paramount and interpretability may be less important, and for which it might be preferable to use random forests rather than decision trees.  Argue why this is the case. (3 pts)"
   ]
  },
  {
   "cell_type": "markdown",
   "metadata": {},
   "source": [
    "Your answer here.\n",
    "\n",
    "Random Forest is a collection of decision trees whose results are averaged. Random Forests typically give a better performance than decision trees. However they cannot be visualized easily. A real world example is a regression problem to predict the house prices in a city. The features can be the number of rooms, gross area, location etc. An application of such a model is that it can be for house valuation and to make investments in real estate. Hence accuracy of the model (to make investments) is more important than interpretability of the model for companies. Also a lot of factors determine the price of a house it's features, environment, location.Random forest rather than decision trees will average the result of the n_estimators to reduce bias and error that would be present in a single model. "
   ]
  },
  {
   "cell_type": "markdown",
   "metadata": {},
   "source": [
    "c) Let's imagine that you want to try to get the best of both worlds (accuracy _and_ interpretability).  So you decide to start by learning a random forest classifier.  Describe at least one way of getting some interpretability out of the model by post-processing.  You could either pick a method from the literature (e.g., Domingos's work on combining multiple models or some method of computing variable importance), or come up with your own approach (doesn't have to be ground-breaking, but feel free to be creative!) (4 pts)"
   ]
  },
  {
   "cell_type": "markdown",
   "metadata": {},
   "source": [
    "Your answer here.\n",
    "\n",
    "A way of improving interpretabilty of ensemble models has been presented in a paper by Santoshi Hara and Kohei Hayashi. It states that the interpretabilty for ensemble models is low becuase it divides the input space into too many regions. It suggests creating two models. One is the prediction model that is the original ensemble method and the second is the interpretation model that represeants the first model with lesser regions. The interpretation model is modelled after the predcition model using EM algorithm and KL diversgence is used for optimization. This post processing model gave a good approximation of ensemble models on synthetic data. "
   ]
  },
  {
   "cell_type": "markdown",
   "metadata": {},
   "source": [
    "###  Question 2: Build a decision tree for classification, step by step, following the lecture notes. Note that the dataset has been slightly modified, so you will get a different tree than the one shown in the lecture notes.  (30 points)"
   ]
  },
  {
   "cell_type": "code",
   "execution_count": 1,
   "metadata": {},
   "outputs": [],
   "source": [
    "import pandas as pd\n",
    "import numpy as np\n",
    "from sklearn.preprocessing import LabelEncoder\n",
    "try:\n",
    "    from StringIO import StringIO\n",
    "except ImportError:\n",
    "    from io import StringIO"
   ]
  },
  {
   "cell_type": "code",
   "execution_count": 2,
   "metadata": {},
   "outputs": [
    {
     "data": {
      "text/html": [
       "<div>\n",
       "<table border=\"1\" class=\"dataframe\">\n",
       "  <thead>\n",
       "    <tr style=\"text-align: right;\">\n",
       "      <th></th>\n",
       "      <th>MPG</th>\n",
       "      <th>cylinders</th>\n",
       "      <th>HP</th>\n",
       "      <th>weight</th>\n",
       "    </tr>\n",
       "  </thead>\n",
       "  <tbody>\n",
       "    <tr>\n",
       "      <th>0</th>\n",
       "      <td>good</td>\n",
       "      <td>4</td>\n",
       "      <td>75</td>\n",
       "      <td>light</td>\n",
       "    </tr>\n",
       "    <tr>\n",
       "      <th>1</th>\n",
       "      <td>bad</td>\n",
       "      <td>6</td>\n",
       "      <td>90</td>\n",
       "      <td>medium</td>\n",
       "    </tr>\n",
       "    <tr>\n",
       "      <th>2</th>\n",
       "      <td>bad</td>\n",
       "      <td>4</td>\n",
       "      <td>110</td>\n",
       "      <td>medium</td>\n",
       "    </tr>\n",
       "    <tr>\n",
       "      <th>3</th>\n",
       "      <td>bad</td>\n",
       "      <td>8</td>\n",
       "      <td>175</td>\n",
       "      <td>weighty</td>\n",
       "    </tr>\n",
       "    <tr>\n",
       "      <th>4</th>\n",
       "      <td>bad</td>\n",
       "      <td>6</td>\n",
       "      <td>95</td>\n",
       "      <td>medium</td>\n",
       "    </tr>\n",
       "    <tr>\n",
       "      <th>5</th>\n",
       "      <td>bad</td>\n",
       "      <td>4</td>\n",
       "      <td>94</td>\n",
       "      <td>light</td>\n",
       "    </tr>\n",
       "    <tr>\n",
       "      <th>6</th>\n",
       "      <td>bad</td>\n",
       "      <td>4</td>\n",
       "      <td>95</td>\n",
       "      <td>light</td>\n",
       "    </tr>\n",
       "    <tr>\n",
       "      <th>7</th>\n",
       "      <td>bad</td>\n",
       "      <td>8</td>\n",
       "      <td>139</td>\n",
       "      <td>weighty</td>\n",
       "    </tr>\n",
       "    <tr>\n",
       "      <th>8</th>\n",
       "      <td>bad</td>\n",
       "      <td>8</td>\n",
       "      <td>190</td>\n",
       "      <td>weighty</td>\n",
       "    </tr>\n",
       "    <tr>\n",
       "      <th>9</th>\n",
       "      <td>bad</td>\n",
       "      <td>8</td>\n",
       "      <td>145</td>\n",
       "      <td>weighty</td>\n",
       "    </tr>\n",
       "    <tr>\n",
       "      <th>10</th>\n",
       "      <td>bad</td>\n",
       "      <td>6</td>\n",
       "      <td>100</td>\n",
       "      <td>medium</td>\n",
       "    </tr>\n",
       "    <tr>\n",
       "      <th>11</th>\n",
       "      <td>good</td>\n",
       "      <td>4</td>\n",
       "      <td>92</td>\n",
       "      <td>medium</td>\n",
       "    </tr>\n",
       "    <tr>\n",
       "      <th>12</th>\n",
       "      <td>bad</td>\n",
       "      <td>6</td>\n",
       "      <td>100</td>\n",
       "      <td>weighty</td>\n",
       "    </tr>\n",
       "    <tr>\n",
       "      <th>13</th>\n",
       "      <td>bad</td>\n",
       "      <td>8</td>\n",
       "      <td>170</td>\n",
       "      <td>weighty</td>\n",
       "    </tr>\n",
       "    <tr>\n",
       "      <th>14</th>\n",
       "      <td>good</td>\n",
       "      <td>4</td>\n",
       "      <td>89</td>\n",
       "      <td>medium</td>\n",
       "    </tr>\n",
       "    <tr>\n",
       "      <th>15</th>\n",
       "      <td>good</td>\n",
       "      <td>4</td>\n",
       "      <td>65</td>\n",
       "      <td>light</td>\n",
       "    </tr>\n",
       "    <tr>\n",
       "      <th>16</th>\n",
       "      <td>bad</td>\n",
       "      <td>6</td>\n",
       "      <td>85</td>\n",
       "      <td>medium</td>\n",
       "    </tr>\n",
       "    <tr>\n",
       "      <th>17</th>\n",
       "      <td>good</td>\n",
       "      <td>4</td>\n",
       "      <td>81</td>\n",
       "      <td>light</td>\n",
       "    </tr>\n",
       "    <tr>\n",
       "      <th>18</th>\n",
       "      <td>bad</td>\n",
       "      <td>6</td>\n",
       "      <td>95</td>\n",
       "      <td>medium</td>\n",
       "    </tr>\n",
       "    <tr>\n",
       "      <th>19</th>\n",
       "      <td>bad</td>\n",
       "      <td>4</td>\n",
       "      <td>93</td>\n",
       "      <td>light</td>\n",
       "    </tr>\n",
       "  </tbody>\n",
       "</table>\n",
       "</div>"
      ],
      "text/plain": [
       "     MPG  cylinders   HP   weight\n",
       "0   good          4   75    light\n",
       "1    bad          6   90   medium\n",
       "2    bad          4  110   medium\n",
       "3    bad          8  175  weighty\n",
       "4    bad          6   95   medium\n",
       "5    bad          4   94    light\n",
       "6    bad          4   95    light\n",
       "7    bad          8  139  weighty\n",
       "8    bad          8  190  weighty\n",
       "9    bad          8  145  weighty\n",
       "10   bad          6  100   medium\n",
       "11  good          4   92   medium\n",
       "12   bad          6  100  weighty\n",
       "13   bad          8  170  weighty\n",
       "14  good          4   89   medium\n",
       "15  good          4   65    light\n",
       "16   bad          6   85   medium\n",
       "17  good          4   81    light\n",
       "18   bad          6   95   medium\n",
       "19   bad          4   93    light"
      ]
     },
     "execution_count": 2,
     "metadata": {},
     "output_type": "execute_result"
    }
   ],
   "source": [
    "#from StringIO import StringIO\n",
    "thefile = StringIO('MPG,cylinders,HP,weight\\ngood,4,75,light\\nbad,6,90,medium\\nbad,4,110,medium\\nbad,8,175,weighty\\nbad,6,95,medium\\nbad,4,94,light\\nbad,4,95,light\\nbad,8,139,weighty\\nbad,8,190,weighty\\nbad,8,145,weighty\\nbad,6,100,medium\\ngood,4,92,medium\\nbad,6,100,weighty\\nbad,8,170,weighty\\ngood,4,89,medium\\ngood,4,65,light\\nbad,6,85,medium\\ngood,4,81,light\\nbad,6,95,medium\\nbad,4,93,light')\n",
    "df = pd.read_csv(thefile)\n",
    "df"
   ]
  },
  {
   "cell_type": "markdown",
   "metadata": {},
   "source": [
    "### Please use numpy and pandas to do the computation for parts a) through f).  Do not use an existing decision tree implementation like sklearn for this question."
   ]
  },
  {
   "cell_type": "markdown",
   "metadata": {},
   "source": [
    "a) Start with the entire dataset and find the most common MPG value. (2 pts)"
   ]
  },
  {
   "cell_type": "code",
   "execution_count": 3,
   "metadata": {},
   "outputs": [
    {
     "data": {
      "text/plain": [
       "'bad'"
      ]
     },
     "execution_count": 3,
     "metadata": {},
     "output_type": "execute_result"
    }
   ],
   "source": [
    "# your code here\n",
    "countG=0\n",
    "countB=0\n",
    "for i in range(len(df)):\n",
    "    if df.loc[i,'MPG']==\"good\":\n",
    "        countG=countG+1\n",
    "    else:\n",
    "        countB=countB+1\n",
    "MPG_value=\"bad\" if countG>countB else \"bad\"\n",
    "MPG_value"
   ]
  },
  {
   "cell_type": "code",
   "execution_count": 4,
   "metadata": {},
   "outputs": [],
   "source": [
    "MPG_value=df['MPG'].mode()[0]"
   ]
  },
  {
   "cell_type": "code",
   "execution_count": 5,
   "metadata": {},
   "outputs": [],
   "source": [
    "def InformationGain(goodY,badY,goodN,badN):\n",
    "    def F(X,Y):\n",
    "        val1 = X*np.log2(1.*(X+Y)/X) if X>0 else 0\n",
    "        val2 = Y*np.log2(1.*(X+Y)/Y) if Y>0 else 0\n",
    "        return val1+val2\n",
    "    return (F(goodY+goodN,badY+badN)-F(goodY,badY)-F(goodN,badN)) / (goodY+goodN+badY+badN)"
   ]
  },
  {
   "cell_type": "markdown",
   "metadata": {},
   "source": [
    "b) Enumerate all the possible binary questions you could ask for each discrete-valued variable.  For each such split, compute the numbers of \"good\" and \"bad\" MPG vehicles in each of the two child nodes, and compute the information gain using the provided function above. (5 pts)"
   ]
  },
  {
   "cell_type": "code",
   "execution_count": 6,
   "metadata": {},
   "outputs": [],
   "source": [
    "# your code here\n",
    "maintain_splits={}"
   ]
  },
  {
   "cell_type": "code",
   "execution_count": 7,
   "metadata": {},
   "outputs": [],
   "source": [
    "def split_discrete(df,column_name,split_value):\n",
    "    goodY=((df[column_name] == split_value) & (df['MPG']== 'good')).sum()\n",
    "    badY=((df[column_name] == split_value) & (df['MPG']== 'bad')).sum()\n",
    "    goodN=((df[column_name]!= split_value) & (df['MPG']== 'good')).sum()\n",
    "    badN=((df[column_name] != split_value) & (df['MPG']== 'bad')).sum()\n",
    "    ig=InformationGain(goodY,badY,goodN,badN)\n",
    "    return ig"
   ]
  },
  {
   "cell_type": "code",
   "execution_count": 8,
   "metadata": {},
   "outputs": [],
   "source": [
    "column_names=['cylinders','weight']\n",
    "def find_best_split_discrete(df,column_names):\n",
    "    max_ig=0\n",
    "    column=\"\"\n",
    "    max_split=0\n",
    "    for column_name in column_names:\n",
    "        split_values=df[column_name].unique()\n",
    "        for split_value in split_values:\n",
    "            ig=split_discrete(df,column_name,split_value)\n",
    "            if ig>max_ig:\n",
    "                max_ig=ig\n",
    "                column=column_name\n",
    "                max_split=split_value\n",
    "            print(\"Column_name : \" + column_name + \" Split value: \" + str(split_value) + \" IG: \" +str(ig))\n",
    "    return (max_ig,column,max_split)"
   ]
  },
  {
   "cell_type": "code",
   "execution_count": 9,
   "metadata": {},
   "outputs": [
    {
     "name": "stdout",
     "output_type": "stream",
     "text": [
      "Column_name : cylinders Split value: 4 IG: 0.365293897532\n",
      "Column_name : cylinders Split value: 6 IG: 0.15307795339\n",
      "Column_name : cylinders Split value: 8 IG: 0.122556248918\n",
      "Column_name : weight Split value: light IG: 0.0971071794515\n",
      "Column_name : weight Split value: medium IG: 8.881784197e-17\n",
      "Column_name : weight Split value: weighty IG: 0.15307795339\n"
     ]
    }
   ],
   "source": [
    "#max_ig,column,max_split=find_best_split_discrete(column_names)\n",
    "max_ig,column,max_split=find_best_split_discrete(df,column_names)"
   ]
  },
  {
   "cell_type": "markdown",
   "metadata": {},
   "source": [
    "c) Enumerate all the possible binary questions you could ask for the real-valued variable HP.  For each such split, compute the numbers of \"good\" and \"bad\" MPG vehicles in each of the two child nodes, and compute the information gain using the provided function above. (5 pts) \n",
    "\n",
    "NOTE: if you'd like, you can just use all midpoints between consecutive values of the sorted HP attribute.  You are not required to exclude provably suboptimal questions like we did in the lecture."
   ]
  },
  {
   "cell_type": "code",
   "execution_count": 10,
   "metadata": {},
   "outputs": [],
   "source": [
    "def split_real(df,column_name,split_value):\n",
    "    goodY=((df[column_name] > split_value) & (df['MPG']== 'good')).sum()\n",
    "    badY=((df[column_name] > split_value) & (df['MPG']== 'bad')).sum()\n",
    "    goodN=((df[column_name] <=  split_value) & (df['MPG']== 'good')).sum()\n",
    "    badN=((df[column_name] <= split_value) & (df['MPG']== 'bad')).sum()\n",
    "    ig=InformationGain(goodY,badY,goodN,badN)\n",
    "    return ig"
   ]
  },
  {
   "cell_type": "code",
   "execution_count": 11,
   "metadata": {},
   "outputs": [],
   "source": [
    "# your code here\n",
    "column_name='HP'\n",
    "def find_best_split_real(df,column_name,max_ig,column,max_split):\n",
    "    li=sorted(df[column_name])\n",
    "    for i in range(len(li)-1):\n",
    "        mid=np.round((li[i]+li[i+1])/2)\n",
    "        ig=split_real(df,column_name,mid)\n",
    "        if ig>max_ig:\n",
    "            max_ig=ig\n",
    "            column=column_name\n",
    "            max_split=mid\n",
    "        print(\"Column_name : \" + column_name + \" Split value: \" + str(mid) + \" IG: \" +str(ig))\n",
    "    return (max_ig,column,max_split)"
   ]
  },
  {
   "cell_type": "code",
   "execution_count": 12,
   "metadata": {},
   "outputs": [
    {
     "name": "stdout",
     "output_type": "stream",
     "text": [
      "Column_name : HP Split value: 70 IG: 0.105914933394\n",
      "Column_name : HP Split value: 78 IG: 0.226257944976\n",
      "Column_name : HP Split value: 83 IG: 0.367102656103\n",
      "Column_name : HP Split value: 87 IG: 0.214170945008\n",
      "Column_name : HP Split value: 89 IG: 0.365776599471\n",
      "Column_name : HP Split value: 91 IG: 0.275926745594\n",
      "Column_name : HP Split value: 92 IG: 0.509185925461\n",
      "Column_name : HP Split value: 93 IG: 0.429504523289\n",
      "Column_name : HP Split value: 94 IG: 0.365293897532\n",
      "Column_name : HP Split value: 95 IG: 0.223356870468\n",
      "Column_name : HP Split value: 95 IG: 0.223356870468\n",
      "Column_name : HP Split value: 97 IG: 0.223356870468\n",
      "Column_name : HP Split value: 100 IG: 0.15307795339\n",
      "Column_name : HP Split value: 105 IG: 0.15307795339\n",
      "Column_name : HP Split value: 124 IG: 0.122556248918\n",
      "Column_name : HP Split value: 142 IG: 0.0944475384315\n",
      "Column_name : HP Split value: 157 IG: 0.0683942335509\n",
      "Column_name : HP Split value: 172 IG: 0.0441134636746\n",
      "Column_name : HP Split value: 182 IG: 0.0213774558499\n"
     ]
    }
   ],
   "source": [
    "max_ig,column,max_split=find_best_split_real(df,'HP',max_ig,column,max_split)"
   ]
  },
  {
   "cell_type": "markdown",
   "metadata": {},
   "source": [
    "d) Based on your results for parts b and c, what is the optimal binary split of the data?  Of the two child nodes created by this split, which (if any) would require further partitioning? (4 pts)"
   ]
  },
  {
   "cell_type": "markdown",
   "metadata": {},
   "source": [
    "Your answer here."
   ]
  },
  {
   "cell_type": "markdown",
   "metadata": {},
   "source": [
    "The best split is the one with the highest information gain."
   ]
  },
  {
   "cell_type": "code",
   "execution_count": 13,
   "metadata": {},
   "outputs": [
    {
     "name": "stdout",
     "output_type": "stream",
     "text": [
      "Column_name : cylinders Split value: 4 IG: 0.365293897532\n",
      "Column_name : cylinders Split value: 6 IG: 0.15307795339\n",
      "Column_name : cylinders Split value: 8 IG: 0.122556248918\n",
      "Column_name : weight Split value: light IG: 0.0971071794515\n",
      "Column_name : weight Split value: medium IG: 8.881784197e-17\n",
      "Column_name : weight Split value: weighty IG: 0.15307795339\n",
      "Column_name : HP Split value: 70 IG: 0.105914933394\n",
      "Column_name : HP Split value: 78 IG: 0.226257944976\n",
      "Column_name : HP Split value: 83 IG: 0.367102656103\n",
      "Column_name : HP Split value: 87 IG: 0.214170945008\n",
      "Column_name : HP Split value: 89 IG: 0.365776599471\n",
      "Column_name : HP Split value: 91 IG: 0.275926745594\n",
      "Column_name : HP Split value: 92 IG: 0.509185925461\n",
      "Column_name : HP Split value: 93 IG: 0.429504523289\n",
      "Column_name : HP Split value: 94 IG: 0.365293897532\n",
      "Column_name : HP Split value: 95 IG: 0.223356870468\n",
      "Column_name : HP Split value: 95 IG: 0.223356870468\n",
      "Column_name : HP Split value: 97 IG: 0.223356870468\n",
      "Column_name : HP Split value: 100 IG: 0.15307795339\n",
      "Column_name : HP Split value: 105 IG: 0.15307795339\n",
      "Column_name : HP Split value: 124 IG: 0.122556248918\n",
      "Column_name : HP Split value: 142 IG: 0.0944475384315\n",
      "Column_name : HP Split value: 157 IG: 0.0683942335509\n",
      "Column_name : HP Split value: 172 IG: 0.0441134636746\n",
      "Column_name : HP Split value: 182 IG: 0.0213774558499\n",
      "The optimal split is as follows\n",
      "Column_name  HP\n",
      "Split value  92\n",
      "Information Gain  0.509185925461\n"
     ]
    }
   ],
   "source": [
    "max_ig,column,max_split=find_best_split_discrete(df,['cylinders','weight'])\n",
    "max_ig,column,max_split=find_best_split_real(df,'HP',max_ig,column,max_split)\n",
    "print(\"The optimal split is as follows\")\n",
    "print(\"Column_name  \" + column)\n",
    "print(\"Split value  \" + str(max_split))\n",
    "print(\"Information Gain  \" + str(max_ig))\n",
    "maintain_splits[column]=max_split"
   ]
  },
  {
   "cell_type": "code",
   "execution_count": 14,
   "metadata": {},
   "outputs": [],
   "source": [
    "def create_right_node(df,column,max_split):\n",
    "    if column in ['HP']:\n",
    "        goodY=((df[column] > max_split) & (df['MPG']== 'good')).sum()\n",
    "        badY=((df[column] > max_split) & (df['MPG']== 'bad')).sum()\n",
    "        right_df = df.loc[df[column] > max_split]\n",
    "    else:\n",
    "        goodY=((df[column] == max_split) & (df['MPG']== 'good')).sum()\n",
    "        badY=((df[column] == max_split) & (df['MPG']== 'bad')).sum()\n",
    "        right_df = df.loc[df[column] == max_split]\n",
    "    if (goodY==0 or badY==0):\n",
    "        print(\"Right Node needs no more partioning.\")\n",
    "    else:\n",
    "        print(\"Right Node needs to be partitioned further.\")\n",
    "    return right_df"
   ]
  },
  {
   "cell_type": "code",
   "execution_count": 15,
   "metadata": {},
   "outputs": [
    {
     "name": "stdout",
     "output_type": "stream",
     "text": [
      "Right Node needs no more partioning.\n",
      "    MPG  cylinders   HP   weight\n",
      "2   bad          4  110   medium\n",
      "3   bad          8  175  weighty\n",
      "4   bad          6   95   medium\n",
      "5   bad          4   94    light\n",
      "6   bad          4   95    light\n",
      "7   bad          8  139  weighty\n",
      "8   bad          8  190  weighty\n",
      "9   bad          8  145  weighty\n",
      "10  bad          6  100   medium\n",
      "12  bad          6  100  weighty\n",
      "13  bad          8  170  weighty\n",
      "18  bad          6   95   medium\n",
      "19  bad          4   93    light\n"
     ]
    }
   ],
   "source": [
    "right_df=create_right_node(df,column,max_split)\n",
    "print(right_df)"
   ]
  },
  {
   "cell_type": "code",
   "execution_count": 16,
   "metadata": {},
   "outputs": [],
   "source": [
    "def create_left_node(df,column,max_split):\n",
    "    left_df=pd.DataFrame()\n",
    "    if column in ['HP']:\n",
    "        goodN=((df[column] <=  max_split) & (df['MPG']== 'good')).sum()\n",
    "        badN=((df[column] <= max_split) & (df['MPG']== 'bad')).sum()\n",
    "        left_df = df.loc[df[column] <=max_split]\n",
    "    else:\n",
    "        goodN=((df[column] !=  max_split) & (df['MPG']== 'good')).sum()\n",
    "        badN=((df[column] != max_split) & (df['MPG']== 'bad')).sum()\n",
    "        left_df = df.loc[df[column] != max_split]\n",
    "    if (goodN==0 or badN==0):\n",
    "        print(\"Left Node needs no more partioning.\")\n",
    "    else:\n",
    "        print(\"Left Node needs to be partitioned further.\")  \n",
    "    return left_df    "
   ]
  },
  {
   "cell_type": "code",
   "execution_count": 17,
   "metadata": {},
   "outputs": [
    {
     "name": "stdout",
     "output_type": "stream",
     "text": [
      "Left Node needs to be partitioned further.\n",
      "     MPG  cylinders  HP  weight\n",
      "0   good          4  75   light\n",
      "1    bad          6  90  medium\n",
      "11  good          4  92  medium\n",
      "14  good          4  89  medium\n",
      "15  good          4  65   light\n",
      "16   bad          6  85  medium\n",
      "17  good          4  81   light\n"
     ]
    }
   ],
   "source": [
    "left_df=create_left_node(df,column,max_split)\n",
    "print(left_df)"
   ]
  },
  {
   "cell_type": "markdown",
   "metadata": {},
   "source": [
    "The first split perfectly classfies records that are in the right node as bad hence no further partioning is required. The other node has 5 good and 2 bad classifications and will require further partioning."
   ]
  },
  {
   "cell_type": "markdown",
   "metadata": {},
   "source": [
    "e) Repeat parts a through d until all training data points are perfectly classified by the resulting tree. (6 pts)"
   ]
  },
  {
   "cell_type": "code",
   "execution_count": 18,
   "metadata": {},
   "outputs": [
    {
     "data": {
      "text/plain": [
       "'good'"
      ]
     },
     "execution_count": 18,
     "metadata": {},
     "output_type": "execute_result"
    }
   ],
   "source": [
    "MPG_value=left_df['MPG'].mode()[0]\n",
    "MPG_value"
   ]
  },
  {
   "cell_type": "code",
   "execution_count": 19,
   "metadata": {},
   "outputs": [
    {
     "name": "stdout",
     "output_type": "stream",
     "text": [
      "Column_name : cylinders Split value: 4 IG: 0.863120568567\n",
      "Column_name : cylinders Split value: 6 IG: 0.863120568567\n",
      "Column_name : weight Split value: light IG: 0.291691997138\n",
      "Column_name : weight Split value: medium IG: 0.291691997138\n",
      "Column_name : HP Split value: 70 IG: 0.0760098536628\n",
      "Column_name : HP Split value: 78 IG: 0.16958442967\n",
      "Column_name : HP Split value: 83 IG: 0.291691997138\n",
      "Column_name : HP Split value: 87 IG: 0.00597771142377\n",
      "Column_name : HP Split value: 89 IG: 0.0617433579328\n",
      "Column_name : HP Split value: 91 IG: 0.0760098536628\n",
      "The optimal split is as follows\n",
      "Column_name  cylinders\n",
      "Split value  4\n",
      "Information Gain  0.863120568567\n"
     ]
    }
   ],
   "source": [
    "max_ig,column,max_split=find_best_split_discrete(left_df,['cylinders','weight'])\n",
    "max_ig,column,max_split=find_best_split_real(left_df,'HP',max_ig,column,max_split)\n",
    "print(\"The optimal split is as follows\")\n",
    "print(\"Column_name  \" + column)\n",
    "print(\"Split value  \" + str(max_split))\n",
    "print(\"Information Gain  \" + str(max_ig))\n",
    "maintain_splits[column]=max_split"
   ]
  },
  {
   "cell_type": "code",
   "execution_count": 20,
   "metadata": {},
   "outputs": [
    {
     "name": "stdout",
     "output_type": "stream",
     "text": [
      "Right Node needs no more partioning.\n",
      "     MPG  cylinders  HP  weight\n",
      "0   good          4  75   light\n",
      "11  good          4  92  medium\n",
      "14  good          4  89  medium\n",
      "15  good          4  65   light\n",
      "17  good          4  81   light\n"
     ]
    }
   ],
   "source": [
    "right_df=create_right_node(left_df,column,max_split)\n",
    "print(right_df)"
   ]
  },
  {
   "cell_type": "code",
   "execution_count": 21,
   "metadata": {},
   "outputs": [
    {
     "name": "stdout",
     "output_type": "stream",
     "text": [
      "Left Node needs no more partioning.\n",
      "    MPG  cylinders  HP  weight\n",
      "1   bad          6  90  medium\n",
      "16  bad          6  85  medium\n"
     ]
    }
   ],
   "source": [
    "left_df=create_left_node(left_df,column,max_split)\n",
    "print(left_df)"
   ]
  },
  {
   "cell_type": "markdown",
   "metadata": {},
   "source": [
    "The tree has been perfectly split using the split cylinders = 4. No further partioning is required."
   ]
  },
  {
   "cell_type": "markdown",
   "metadata": {},
   "source": [
    "f) Draw or show the final decision tree in a format of your choice.  The decision to make at each step and the predicted value at each leaf node must be clear. (4 pts)"
   ]
  },
  {
   "cell_type": "markdown",
   "metadata": {},
   "source": [
    "Your answer here."
   ]
  },
  {
   "cell_type": "markdown",
   "metadata": {},
   "source": [
    "g) Classify each of the following four vehicles as having \"good\" or \"bad\" fuel efficiency (miles per gallon).  Do this by hand using the tree structure learned in part f. (4 pts)\n",
    "\n",
    "?,8,70,light - bad\n",
    "\n",
    "?,6,113,medium - bad\n",
    "\n",
    "?,4,83,weighty - good\n",
    "\n",
    "?,4,95,weighty - bad\n"
   ]
  },
  {
   "cell_type": "markdown",
   "metadata": {},
   "source": [
    "### Question 3, Predicting burden of disease （40 pts)"
   ]
  },
  {
   "cell_type": "code",
   "execution_count": 22,
   "metadata": {},
   "outputs": [
    {
     "data": {
      "text/html": [
       "<div>\n",
       "<table border=\"1\" class=\"dataframe\">\n",
       "  <thead>\n",
       "    <tr style=\"text-align: right;\">\n",
       "      <th></th>\n",
       "      <th>Country</th>\n",
       "      <th>FrxnPeaceIn10</th>\n",
       "      <th>ODA4H2OPcptaDol</th>\n",
       "      <th>RenewResm3PcptaYr</th>\n",
       "      <th>SustAccImprWatRur</th>\n",
       "      <th>SustAccImprWatUrb</th>\n",
       "      <th>SustAccImprSanRur</th>\n",
       "      <th>SustAccImprSanUrb</th>\n",
       "      <th>TotHlthExpPctofGDP</th>\n",
       "      <th>GenGovtPctofTotHlthExp</th>\n",
       "      <th>ExtResHlthPctTotExpHlth</th>\n",
       "      <th>PCptaGovtExpHlthAvgExcRt</th>\n",
       "      <th>GDPPCptaIntDol</th>\n",
       "      <th>AdultLtrcyRate</th>\n",
       "      <th>FemaleLtrcyRate</th>\n",
       "      <th>BurdenOfDisease</th>\n",
       "    </tr>\n",
       "  </thead>\n",
       "  <tbody>\n",
       "    <tr>\n",
       "      <th>0</th>\n",
       "      <td>Afghanistan</td>\n",
       "      <td>0.1</td>\n",
       "      <td>0.16</td>\n",
       "      <td>2986</td>\n",
       "      <td>0.10891</td>\n",
       "      <td>0.18812</td>\n",
       "      <td>0.049505</td>\n",
       "      <td>0.15842</td>\n",
       "      <td>0.065</td>\n",
       "      <td>0.395</td>\n",
       "      <td>0.4560</td>\n",
       "      <td>4</td>\n",
       "      <td>430</td>\n",
       "      <td>0.35644</td>\n",
       "      <td>0.20792</td>\n",
       "      <td>awful</td>\n",
       "    </tr>\n",
       "    <tr>\n",
       "      <th>1</th>\n",
       "      <td>Albania</td>\n",
       "      <td>1.0</td>\n",
       "      <td>5.58</td>\n",
       "      <td>13306</td>\n",
       "      <td>0.94059</td>\n",
       "      <td>0.98020</td>\n",
       "      <td>0.801980</td>\n",
       "      <td>0.98020</td>\n",
       "      <td>0.065</td>\n",
       "      <td>0.417</td>\n",
       "      <td>0.0340</td>\n",
       "      <td>49</td>\n",
       "      <td>6158</td>\n",
       "      <td>0.85644</td>\n",
       "      <td>0.78713</td>\n",
       "      <td>low</td>\n",
       "    </tr>\n",
       "    <tr>\n",
       "      <th>2</th>\n",
       "      <td>Algeria</td>\n",
       "      <td>0.0</td>\n",
       "      <td>0.33</td>\n",
       "      <td>473</td>\n",
       "      <td>0.79208</td>\n",
       "      <td>0.91089</td>\n",
       "      <td>0.811880</td>\n",
       "      <td>0.98020</td>\n",
       "      <td>0.041</td>\n",
       "      <td>0.808</td>\n",
       "      <td>0.0005</td>\n",
       "      <td>71</td>\n",
       "      <td>4860</td>\n",
       "      <td>0.69307</td>\n",
       "      <td>0.60396</td>\n",
       "      <td>high</td>\n",
       "    </tr>\n",
       "  </tbody>\n",
       "</table>\n",
       "</div>"
      ],
      "text/plain": [
       "       Country  FrxnPeaceIn10  ODA4H2OPcptaDol  RenewResm3PcptaYr  \\\n",
       "0  Afghanistan            0.1             0.16               2986   \n",
       "1      Albania            1.0             5.58              13306   \n",
       "2      Algeria            0.0             0.33                473   \n",
       "\n",
       "   SustAccImprWatRur  SustAccImprWatUrb  SustAccImprSanRur  SustAccImprSanUrb  \\\n",
       "0            0.10891            0.18812           0.049505            0.15842   \n",
       "1            0.94059            0.98020           0.801980            0.98020   \n",
       "2            0.79208            0.91089           0.811880            0.98020   \n",
       "\n",
       "   TotHlthExpPctofGDP  GenGovtPctofTotHlthExp  ExtResHlthPctTotExpHlth  \\\n",
       "0               0.065                   0.395                   0.4560   \n",
       "1               0.065                   0.417                   0.0340   \n",
       "2               0.041                   0.808                   0.0005   \n",
       "\n",
       "   PCptaGovtExpHlthAvgExcRt  GDPPCptaIntDol  AdultLtrcyRate  FemaleLtrcyRate  \\\n",
       "0                         4             430         0.35644          0.20792   \n",
       "1                        49            6158         0.85644          0.78713   \n",
       "2                        71            4860         0.69307          0.60396   \n",
       "\n",
       "  BurdenOfDisease  \n",
       "0           awful  \n",
       "1             low  \n",
       "2            high  "
      ]
     },
     "execution_count": 22,
     "metadata": {},
     "output_type": "execute_result"
    }
   ],
   "source": [
    "data=pd.read_csv(\"Burden of diarrheal illness by country.csv\")\n",
    "data.head(3)"
   ]
  },
  {
   "cell_type": "code",
   "execution_count": 229,
   "metadata": {},
   "outputs": [
    {
     "data": {
      "text/html": [
       "<div>\n",
       "<table border=\"1\" class=\"dataframe\">\n",
       "  <thead>\n",
       "    <tr style=\"text-align: right;\">\n",
       "      <th></th>\n",
       "      <th>FrxnPeaceIn10</th>\n",
       "      <th>ODA4H2OPcptaDol</th>\n",
       "      <th>RenewResm3PcptaYr</th>\n",
       "      <th>SustAccImprWatRur</th>\n",
       "      <th>SustAccImprWatUrb</th>\n",
       "      <th>SustAccImprSanRur</th>\n",
       "      <th>SustAccImprSanUrb</th>\n",
       "      <th>TotHlthExpPctofGDP</th>\n",
       "      <th>GenGovtPctofTotHlthExp</th>\n",
       "      <th>ExtResHlthPctTotExpHlth</th>\n",
       "      <th>PCptaGovtExpHlthAvgExcRt</th>\n",
       "      <th>GDPPCptaIntDol</th>\n",
       "      <th>AdultLtrcyRate</th>\n",
       "      <th>FemaleLtrcyRate</th>\n",
       "    </tr>\n",
       "  </thead>\n",
       "  <tbody>\n",
       "    <tr>\n",
       "      <th>0</th>\n",
       "      <td>0.1</td>\n",
       "      <td>0.16</td>\n",
       "      <td>2986</td>\n",
       "      <td>0.10891</td>\n",
       "      <td>0.18812</td>\n",
       "      <td>0.049505</td>\n",
       "      <td>0.15842</td>\n",
       "      <td>0.065</td>\n",
       "      <td>0.395</td>\n",
       "      <td>0.4560</td>\n",
       "      <td>4</td>\n",
       "      <td>430</td>\n",
       "      <td>0.35644</td>\n",
       "      <td>0.20792</td>\n",
       "    </tr>\n",
       "    <tr>\n",
       "      <th>1</th>\n",
       "      <td>1.0</td>\n",
       "      <td>5.58</td>\n",
       "      <td>13306</td>\n",
       "      <td>0.94059</td>\n",
       "      <td>0.98020</td>\n",
       "      <td>0.801980</td>\n",
       "      <td>0.98020</td>\n",
       "      <td>0.065</td>\n",
       "      <td>0.417</td>\n",
       "      <td>0.0340</td>\n",
       "      <td>49</td>\n",
       "      <td>6158</td>\n",
       "      <td>0.85644</td>\n",
       "      <td>0.78713</td>\n",
       "    </tr>\n",
       "    <tr>\n",
       "      <th>2</th>\n",
       "      <td>0.0</td>\n",
       "      <td>0.33</td>\n",
       "      <td>473</td>\n",
       "      <td>0.79208</td>\n",
       "      <td>0.91089</td>\n",
       "      <td>0.811880</td>\n",
       "      <td>0.98020</td>\n",
       "      <td>0.041</td>\n",
       "      <td>0.808</td>\n",
       "      <td>0.0005</td>\n",
       "      <td>71</td>\n",
       "      <td>4860</td>\n",
       "      <td>0.69307</td>\n",
       "      <td>0.60396</td>\n",
       "    </tr>\n",
       "    <tr>\n",
       "      <th>3</th>\n",
       "      <td>0.2</td>\n",
       "      <td>0.63</td>\n",
       "      <td>14009</td>\n",
       "      <td>0.39604</td>\n",
       "      <td>0.69307</td>\n",
       "      <td>0.158420</td>\n",
       "      <td>0.55446</td>\n",
       "      <td>0.028</td>\n",
       "      <td>0.842</td>\n",
       "      <td>0.0670</td>\n",
       "      <td>22</td>\n",
       "      <td>1942</td>\n",
       "      <td>0.66139</td>\n",
       "      <td>0.53267</td>\n",
       "    </tr>\n",
       "    <tr>\n",
       "      <th>4</th>\n",
       "      <td>1.0</td>\n",
       "      <td>2.51</td>\n",
       "      <td>2780</td>\n",
       "      <td>0.79208</td>\n",
       "      <td>0.98020</td>\n",
       "      <td>0.603960</td>\n",
       "      <td>0.95050</td>\n",
       "      <td>0.060</td>\n",
       "      <td>0.202</td>\n",
       "      <td>0.1720</td>\n",
       "      <td>11</td>\n",
       "      <td>5697</td>\n",
       "      <td>0.97624</td>\n",
       "      <td>0.97030</td>\n",
       "    </tr>\n",
       "  </tbody>\n",
       "</table>\n",
       "</div>"
      ],
      "text/plain": [
       "   FrxnPeaceIn10  ODA4H2OPcptaDol  RenewResm3PcptaYr  SustAccImprWatRur  \\\n",
       "0            0.1             0.16               2986            0.10891   \n",
       "1            1.0             5.58              13306            0.94059   \n",
       "2            0.0             0.33                473            0.79208   \n",
       "3            0.2             0.63              14009            0.39604   \n",
       "4            1.0             2.51               2780            0.79208   \n",
       "\n",
       "   SustAccImprWatUrb  SustAccImprSanRur  SustAccImprSanUrb  \\\n",
       "0            0.18812           0.049505            0.15842   \n",
       "1            0.98020           0.801980            0.98020   \n",
       "2            0.91089           0.811880            0.98020   \n",
       "3            0.69307           0.158420            0.55446   \n",
       "4            0.98020           0.603960            0.95050   \n",
       "\n",
       "   TotHlthExpPctofGDP  GenGovtPctofTotHlthExp  ExtResHlthPctTotExpHlth  \\\n",
       "0               0.065                   0.395                   0.4560   \n",
       "1               0.065                   0.417                   0.0340   \n",
       "2               0.041                   0.808                   0.0005   \n",
       "3               0.028                   0.842                   0.0670   \n",
       "4               0.060                   0.202                   0.1720   \n",
       "\n",
       "   PCptaGovtExpHlthAvgExcRt  GDPPCptaIntDol  AdultLtrcyRate  FemaleLtrcyRate  \n",
       "0                         4             430         0.35644          0.20792  \n",
       "1                        49            6158         0.85644          0.78713  \n",
       "2                        71            4860         0.69307          0.60396  \n",
       "3                        22            1942         0.66139          0.53267  \n",
       "4                        11            5697         0.97624          0.97030  "
      ]
     },
     "execution_count": 229,
     "metadata": {},
     "output_type": "execute_result"
    }
   ],
   "source": [
    "X=data.iloc[:,1:-1]\n",
    "X.head()"
   ]
  },
  {
   "cell_type": "code",
   "execution_count": 230,
   "metadata": {},
   "outputs": [],
   "source": [
    "labelencoder = LabelEncoder()\n",
    "data.iloc[:, -1] = labelencoder.fit_transform(data.iloc[:, -1])"
   ]
  },
  {
   "cell_type": "code",
   "execution_count": 231,
   "metadata": {},
   "outputs": [
    {
     "data": {
      "text/plain": [
       "0    0\n",
       "1    2\n",
       "2    1\n",
       "3    0\n",
       "4    2\n",
       "Name: BurdenOfDisease, dtype: int64"
      ]
     },
     "execution_count": 231,
     "metadata": {},
     "output_type": "execute_result"
    }
   ],
   "source": [
    "y=data.iloc[:,-1]\n",
    "y.head()"
   ]
  },
  {
   "cell_type": "markdown",
   "metadata": {},
   "source": [
    "### Data dictionary\n",
    "\n",
    "NAME: Burden of diarrheal illness by country\n",
    "\n",
    "SIZE: 130 Countries, 16 Variables\n",
    "\n",
    "VARIABLE DESCRIPTIONS:\n",
    "\n",
    "Country: Country name\n",
    "\n",
    "FrxnPeaceIn10: Fraction of the past ten years in which a country has been at peace \n",
    "\n",
    "ODA4H2OPcptaDol: Per Capita Official Developmental Assistance for water projects\n",
    "\n",
    "RenewResm3PcptaYr: Renewable Water Resources in cubic meters per capita per year\n",
    "\n",
    "SustAccImprWatRur: Fraction of rural population with sustainable access to improved water\n",
    "\n",
    "SustAccImprWatUrb: Fraction of urban population with sustainable access to improved water\n",
    "\n",
    "SustAccImprSanRur: Fraction of rural population with sustainable access to improved sanitation\n",
    "\n",
    "SustAccImprSanUrb: Fraction of urban population with sustainable access to improved sanitation\n",
    "\n",
    "TotHlthExpPctofGDP: Fraction of a country's GDP devoted to health spending\n",
    "\n",
    "GenGovtPctofTotHlthExp: The fraction of total health expenditures for a country which is provided by the government\n",
    "\n",
    "ExtResHlthPctTotExpHlth: The fraction of total health expenditures for a country which is comes from sources external to the country\n",
    "\n",
    "PCptaGovtExpHlthAvgExcRt: Per Capita Government Health Expenditures at the average exchange rate\n",
    "\n",
    "GDPPCptaIntDol: Gross Domestic Product per capita in international dollars\n",
    "\n",
    "AdultLtrcyRate: Adult Literacy rate\n",
    "\n",
    "FemaleLtrcyRate: Female Literacy rate\n",
    "\n",
    "BurdenOfDisease: Our target variable for classification.  The burden of disease due to diarrheal illness, categorized into \"low\", \"medium\", \"high\", and \"awful\" quartiles.  For each country, we have estimates of the number of Disability-Adjusted Life Years lost per 1000 persons per year (DALYs) due to diarrheal illness.  Countries with \"low\" burden of disease have up to 2.75345 DALYs; countries with \"medium\" burden of disease have between 2.75345 and 8.2127 DALYs; countries with \"high\" burden of disease have between 8.2127 and 26.699 DALYs; and countries with \"awful\" burden of diease have more than 26.699 DALYs."
   ]
  },
  {
   "cell_type": "markdown",
   "metadata": {},
   "source": [
    "### Your goal is to train a decision tree classifier for the attribute “BurdenOfDisease\" using all other variables (except country name) as features with sklearn.tree.DecisionTreeClassifier. \n",
    "http://scikit-learn.org/stable/modules/generated/sklearn.tree.DecisionTreeClassifier.html"
   ]
  },
  {
   "cell_type": "markdown",
   "metadata": {},
   "source": [
    "a) Please choose a train/test split and choose a hyper-parameter governing model simplicity, for example, the maximum tree depth or maximum number of leaf nodes. Then, fit your decision tree classifier (using the training set) for different values of this parameter and for each such value, record the corresponding classification accuracy on the test set. (10 pts)"
   ]
  },
  {
   "cell_type": "code",
   "execution_count": 242,
   "metadata": {},
   "outputs": [],
   "source": [
    "from sklearn.model_selection import train_test_split\n",
    "from sklearn.tree import DecisionTreeClassifier\n",
    "# your code here\n",
    "X_train,X_test,y_train,y_test=train_test_split(X, y, test_size=0.3,random_state=0)\n",
    "Test_OS=[]\n",
    "for i in range(2,11):\n",
    "    dt=DecisionTreeClassifier(max_depth=i,random_state=0)\n",
    "    dt.fit(X_train,y_train)\n",
    "    Test_OS.append(dt.score(X_test,y_test))"
   ]
  },
  {
   "cell_type": "markdown",
   "metadata": {},
   "source": [
    "b) Make a plot of accuracy vs. simplicity for different values of the hyper-parameter chosen in part a). That is, the x-axis should be hyper-parameter value (e.g. tree depth) and the y-axis should be accuracy. (10 pts)"
   ]
  },
  {
   "cell_type": "code",
   "execution_count": 243,
   "metadata": {},
   "outputs": [
    {
     "data": {
      "image/png": "[encoded data removed]",
      "text/plain": [
       "<matplotlib.figure.Figure at 0x7f2730c47bd0>"
      ]
     },
     "metadata": {},
     "output_type": "display_data"
    }
   ],
   "source": [
    "import matplotlib.pylab as plt\n",
    "# your code here\n",
    "%matplotlib inline\n",
    "plt.figure(figsize=(7,5))\n",
    "plt.plot(range(2,11),Test_OS)\n",
    "plt.xlabel(\"Max leaf nodes\")\n",
    "plt.ylabel(\"Accuracy\")\n",
    "plt.title(\"Accuracy vs Simplicity (max depth)\")\n",
    "plt.xlim(2,12)\n",
    "plt.show()"
   ]
  },
  {
   "cell_type": "markdown",
   "metadata": {},
   "source": [
    "c) Tune the hyper-parameter you choose in part a) by cross-validation using the training data. You can choose to use the GridSearchCV package from sklearn or write your own code to do cross-validation by spliting the training data into training and validation data. What is the out of sample accuracy after tuning the hyper-parameter? (10 pts)"
   ]
  },
  {
   "cell_type": "code",
   "execution_count": 244,
   "metadata": {},
   "outputs": [
    {
     "name": "stdout",
     "output_type": "stream",
     "text": [
      "{'max_depth': 3}\n",
      "0.813186813187\n",
      "Out sample: 0.615384615385\n"
     ]
    }
   ],
   "source": [
    "from sklearn.model_selection import GridSearchCV\n",
    "param_grid = {'max_depth':range(1,11)}\n",
    "dt=DecisionTreeClassifier()\n",
    "gr=GridSearchCV(dt,param_grid=param_grid,cv=5)\n",
    "rs=gr.fit(X_train,y_train)\n",
    "print(rs.best_params_)\n",
    "print(rs.score(X_train,y_train))\n",
    "print(\"Out sample: {}\".format(rs.score(X_test,y_test)))\n",
    "# your code here"
   ]
  },
  {
   "cell_type": "markdown",
   "metadata": {},
   "source": [
    "d) Visualize a simple decision tree (e.g., with max_depth = 2 or 3) learned from the data.  To do so, given your decision tree dt, you can use the code below, then copy and paste the resulting output into http://www.webgraphviz.com.  Alternatively, if you have graphviz installed on your machine, you can use that. (5 pts)"
   ]
  },
  {
   "cell_type": "code",
   "execution_count": 1,
   "metadata": {
    "scrolled": false
   },
   "outputs": [
    {
     "ename": "NameError",
     "evalue": "name 'DecisionTreeClassifier' is not defined",
     "output_type": "error",
     "traceback": [
      "\u001b[0;31m\u001b[0m",
      "\u001b[0;31mNameError\u001b[0mTraceback (most recent call last)",
      "\u001b[0;32m<ipython-input-1-4f3361fa6869>\u001b[0m in \u001b[0;36m<module>\u001b[0;34m()\u001b[0m\n\u001b[1;32m      2\u001b[0m \u001b[0;34m\u001b[0m\u001b[0m\n\u001b[1;32m      3\u001b[0m \u001b[0;31m# your code here\u001b[0m\u001b[0;34m\u001b[0m\u001b[0;34m\u001b[0m\u001b[0m\n\u001b[0;32m----> 4\u001b[0;31m \u001b[0mdt\u001b[0m\u001b[0;34m=\u001b[0m\u001b[0mDecisionTreeClassifier\u001b[0m\u001b[0;34m(\u001b[0m\u001b[0mmax_depth\u001b[0m\u001b[0;34m=\u001b[0m\u001b[0;36m3\u001b[0m\u001b[0;34m)\u001b[0m\u001b[0;34m\u001b[0m\u001b[0m\n\u001b[0m\u001b[1;32m      5\u001b[0m \u001b[0mdt\u001b[0m\u001b[0;34m.\u001b[0m\u001b[0mfit\u001b[0m\u001b[0;34m(\u001b[0m\u001b[0mX_train\u001b[0m\u001b[0;34m,\u001b[0m\u001b[0my_train\u001b[0m\u001b[0;34m)\u001b[0m\u001b[0;34m\u001b[0m\u001b[0m\n\u001b[1;32m      6\u001b[0m thestring=tree.export_graphviz(dt,out_file=None,\n",
      "\u001b[0;31mNameError\u001b[0m: name 'DecisionTreeClassifier' is not defined"
     ]
    }
   ],
   "source": [
    "from sklearn import tree\n",
    "\n",
    "# your code here\n",
    "dt=DecisionTreeClassifier(max_depth=3)\n",
    "dt.fit(X_train,y_train)\n",
    "thestring=tree.export_graphviz(dt,out_file=None,\n",
    "                         feature_names=X_train.columns.values,  \n",
    "                         class_names=dt.classes_,  \n",
    "                         filled=True, rounded=True,  \n",
    "                         special_characters=True,impurity=False).replace(\"<br/>\",\", \").replace(\"&le;\",\"<=\").replace(\"=<\",\"=\\\"\").replace(\">,\",\"\\\",\")\n",
    "print thestring"
   ]
  },
  {
   "cell_type": "markdown",
   "metadata": {},
   "source": [
    "### Question 4, Fit a random forest to the data from question 3 (20 pts)\n",
    "\n",
    "a) Please use the same test/train split from previous question and feel free to tune the hyper-parameters for Random Forest model using training data. The package from sklearn is here: http://scikit-learn.org/stable/modules/generated/sklearn.ensemble.RandomForestClassifier.html.\n",
    "Then please report your out of sample prediction result and compare this model's performance with 3c). (10 pts)"
   ]
  },
  {
   "cell_type": "code",
   "execution_count": 246,
   "metadata": {},
   "outputs": [
    {
     "name": "stdout",
     "output_type": "stream",
     "text": [
      "{'n_estimators': 41}\n",
      "0.967032967033\n",
      "Out sample: 0.692307692308\n"
     ]
    }
   ],
   "source": [
    "from sklearn.ensemble import RandomForestClassifier\n",
    "from sklearn.model_selection import GridSearchCV\n",
    "param_grid = {'n_estimators':range(1,51,5)}\n",
    "rf=RandomForestClassifier(n_jobs=-1,max_leaf_nodes=10)\n",
    "gr=GridSearchCV(rf,param_grid=param_grid,cv=5)\n",
    "rs=gr.fit(X_train,y_train)\n",
    "print(rs.best_params_)\n",
    "print(rs.score(X_train,y_train))\n",
    "print(\"Out sample: {}\".format(rs.score(X_test,y_test)))"
   ]
  },
  {
   "cell_type": "markdown",
   "metadata": {
    "collapsed": true
   },
   "source": [
    "b) Write one paragraph comparing the results from those two models (Random Forest vs Decision Tree) in terms of both accuracy and interpretability. (10 pts)"
   ]
  },
  {
   "cell_type": "markdown",
   "metadata": {
    "collapsed": true
   },
   "source": [
    "Your answer here.\n",
    "\n",
    "Decision tree model predicts using if then this conditions. One of the main advantages of decision trees is its interpretability.It is possible to make straightforward viszualizatons that represent how a tree takes a decision when given an input. But decision trees are prone to overfitting espectially when the depth of the tree is large. Random Forest aggregate the results of several decision trees. This makes their accuracy higher but at the cost of interpretability.The Random Forest gives slightly higher out of sample accuracy bu this comes at the cost of interpretability. For both the models it can be seen that there is overfitting. The Random Forest does not give a significant improvement in performance from decision trees."
   ]
  },
  {
   "cell_type": "code",
   "execution_count": null,
   "metadata": {},
   "outputs": [],
   "source": []
  }
 ],
 "metadata": {
  "anaconda-cloud": {},
  "celltoolbar": "Raw Cell Format",
  "kernelspec": {
   "display_name": "PUI2016_Python2",
   "language": "python",
   "name": "pui2016_python2"
  },
  "language_info": {
   "codemirror_mode": {
    "name": "ipython",
    "version": 2
   },
   "file_extension": ".py",
   "mimetype": "text/x-python",
   "name": "python",
   "nbconvert_exporter": "python",
   "pygments_lexer": "ipython2",
   "version": "2.7.12"
  }
 },
 "nbformat": 4,
 "nbformat_minor": 2
}
