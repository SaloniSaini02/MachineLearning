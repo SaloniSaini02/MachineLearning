{
 "cells": [
  {
   "cell_type": "code",
   "execution_count": 3,
   "metadata": {},
   "outputs": [],
   "source": [
    "import numpy as np\n",
    "import pandas as pd\n",
    "import matplotlib.pyplot as plt\n",
    "from matplotlib import rcParams\n",
    "rcParams['figure.figsize'] = 6, 4\n",
    "from scipy import stats"
   ]
  },
  {
   "cell_type": "markdown",
   "metadata": {},
   "source": [
    "## Task 1 (5+5+5+5+5=25 pts)\n",
    "\n",
    "### Consider the dataset HW2_task1.csv, a binary classification problem with two real-valued input attributes.  As you can see from the plot, the dataset is linearly separable. Train a linear SVM (setting C=100000 just to emphasize that no slack variables are allowed) and  answer the following five questions: "
   ]
  },
  {
   "cell_type": "code",
   "execution_count": 4,
   "metadata": {},
   "outputs": [
    {
     "data": {
      "image/png": "[encoded data removed]",
      "text/plain": [
       "<matplotlib.figure.Figure at 0x7f64107e4050>"
      ]
     },
     "metadata": {},
     "output_type": "display_data"
    }
   ],
   "source": [
    "# Data\n",
    "data1=pd.read_csv('HW2_task1.csv')\n",
    "X=data1.iloc[:,:2]\n",
    "Y=data1.iloc[:,2]\n",
    "plt.gca()\n",
    "plt.scatter(X.iloc[:,0], X.iloc[:,1], s=50, c=Y, cmap=plt.cm.get_cmap('coolwarm', 2))\n",
    "plt.show()"
   ]
  },
  {
   "cell_type": "code",
   "execution_count": 5,
   "metadata": {},
   "outputs": [
    {
     "data": {
      "text/plain": [
       "SVC(C=100000, cache_size=200, class_weight=None, coef0=0.0,\n",
       "  decision_function_shape='ovr', degree=3, gamma='auto', kernel='linear',\n",
       "  max_iter=-1, probability=False, random_state=None, shrinking=True,\n",
       "  tol=0.001, verbose=False)"
      ]
     },
     "execution_count": 5,
     "metadata": {},
     "output_type": "execute_result"
    }
   ],
   "source": [
    "from sklearn.model_selection import train_test_split\n",
    "from sklearn import svm\n",
    "clf = svm.SVC(kernel='linear', C=100000) \n",
    "X_train, X_test, Y_train, Y_test = train_test_split(X, Y, test_size=0.33, random_state=23)\n",
    "clf.fit(X, Y)\n",
    "#correct=1.0*(clf.predict(X_test)==np.asarray(Y_test)).sum()/len(Y_test)\n",
    "#print(\"Out of sample, we successfully predict {} percent of the data\".format((correct)*100))"
   ]
  },
  {
   "cell_type": "markdown",
   "metadata": {},
   "source": [
    "#### a. Report the separating hyperplane (line)."
   ]
  },
  {
   "cell_type": "code",
   "execution_count": 6,
   "metadata": {},
   "outputs": [
    {
     "name": "stdout",
     "output_type": "stream",
     "text": [
      "The coefficients are [ 0.66329036  0.56359437]\n"
     ]
    }
   ],
   "source": [
    "# your code here\n",
    "w = clf.coef_[0]\n",
    "print(\"The coefficients are \" + str(w))"
   ]
  },
  {
   "cell_type": "code",
   "execution_count": 7,
   "metadata": {},
   "outputs": [
    {
     "name": "stdout",
     "output_type": "stream",
     "text": [
      "The intercept of the line is 0.0431997442494\n"
     ]
    }
   ],
   "source": [
    "intercept = clf.intercept_[0]\n",
    "print(\"The intercept of the line is \" + str(intercept))"
   ]
  },
  {
   "cell_type": "code",
   "execution_count": 8,
   "metadata": {},
   "outputs": [
    {
     "name": "stdout",
     "output_type": "stream",
     "text": [
      "The equation for the separating hyperplane is 0.66329035714*x1 + 0.563594367945*x2 +0.0431997442494 =0\n"
     ]
    }
   ],
   "source": [
    "print(\"The equation for the separating hyperplane is \" + str(w[0]) + \"*x1 + \" + str(w[1]) +\"*x2 +\"+ str(intercept) + \" =0\")"
   ]
  },
  {
   "cell_type": "markdown",
   "metadata": {},
   "source": [
    "#### b. List the support vectors."
   ]
  },
  {
   "cell_type": "code",
   "execution_count": 9,
   "metadata": {},
   "outputs": [
    {
     "name": "stdout",
     "output_type": "stream",
     "text": [
      "[[ 0.22627536 -2.11810965]\n",
      " [-1.5180363  -0.06399383]\n",
      " [ 0.93564585  0.5969359 ]]\n"
     ]
    }
   ],
   "source": [
    "# your code here\n",
    "print(clf.support_vectors_)"
   ]
  },
  {
   "cell_type": "markdown",
   "metadata": {},
   "source": [
    "#### c. Calculate the upper and lower hyperplanes (lines) of the margin."
   ]
  },
  {
   "cell_type": "code",
   "execution_count": 10,
   "metadata": {},
   "outputs": [
    {
     "name": "stdout",
     "output_type": "stream",
     "text": [
      "Lower hyperplane is x2_ = -1.17689316087*x1 + -1.8518077187\n",
      "Higher hyperplane is x2_ = -1.17689316087*x1 + 1.69809110446\n"
     ]
    }
   ],
   "source": [
    "# your code here\n",
    "slope = -w[0]/w[1]\n",
    "support_vector1 = clf.support_vectors_[0]\n",
    "support_vector2 = clf.support_vectors_[-1]\n",
    "print(\"Lower hyperplane is x2_ = \" +  str(slope) + \"*x1 + \" + str(support_vector1[1] - slope * support_vector1[0]))\n",
    "print(\"Higher hyperplane is x2_ = \" +  str(slope) + \"*x1 + \" + str(support_vector2[1] - slope * support_vector2[0]))"
   ]
  },
  {
   "cell_type": "code",
   "execution_count": 11,
   "metadata": {},
   "outputs": [
    {
     "data": {
      "image/png": "[encoded data removed]",
      "text/plain": [
       "<matplotlib.figure.Figure at 0x7f640e467690>"
      ]
     },
     "metadata": {},
     "output_type": "display_data"
    }
   ],
   "source": [
    "x1 = np.linspace(-4, 5)\n",
    "x2 = slope * x1 - (clf.intercept_[0]) / w[1]\n",
    "\n",
    "# plot the parallels to the separating hyperplane (slope = a) that go through the support vectors.\n",
    "\n",
    "b = clf.support_vectors_[0]\n",
    "x2_down = slope * x1 + (b[1] - slope* b[0])\n",
    "\n",
    "b = clf.support_vectors_[-1]\n",
    "x2_up = slope * x1 + (b[1] - slope* b[0])\n",
    "\n",
    "# plot the line, the points, and the nearest vectors to the plane\n",
    "plt.gca()\n",
    "plt.plot(x1, x2, 'k-')\n",
    "plt.plot(x1, x2_down, 'k--')\n",
    "plt.plot(x1, x2_up, 'k--')\n",
    "\n",
    "plt.scatter(clf.support_vectors_[:, 0], clf.support_vectors_[:, 1],\n",
    "            s=200, facecolors='none')\n",
    "plt.scatter(X_train.iloc[:, 0], X_train.iloc[:, 1], c=Y_train, cmap=plt.cm.Paired,s=100)\n",
    "\n",
    "plt.axis('tight')\n",
    "plt.show()"
   ]
  },
  {
   "cell_type": "markdown",
   "metadata": {},
   "source": [
    "#### d. Compute the width of the margin."
   ]
  },
  {
   "cell_type": "code",
   "execution_count": 12,
   "metadata": {},
   "outputs": [
    {
     "name": "stdout",
     "output_type": "stream",
     "text": [
      "The width of the margin is 2.29779935043\n"
     ]
    }
   ],
   "source": [
    "# your code here\n",
    "import math \n",
    "print(\"The width of the margin is \" + str(2/(math.sqrt(w[0]**2 + w[1]**2))))"
   ]
  },
  {
   "cell_type": "markdown",
   "metadata": {},
   "source": [
    "#### e. What would you expect to happen to the margin if the constant C was made very small?"
   ]
  },
  {
   "cell_type": "markdown",
   "metadata": {},
   "source": [
    "Your answer here.  You can justify your intuitions with code if you'd like, but this is not required."
   ]
  },
  {
   "cell_type": "code",
   "execution_count": 13,
   "metadata": {},
   "outputs": [
    {
     "name": "stdout",
     "output_type": "stream",
     "text": [
      "The width of the margin is 29787.5708917\n"
     ]
    }
   ],
   "source": [
    "clf = svm.SVC(kernel='linear', C=0.000001) \n",
    "clf.fit(X_train, Y_train)\n",
    "w = clf.coef_[0]\n",
    "print(\"The width of the margin is \" + str(2/(math.sqrt(w[0]**2 + w[1]**2))))"
   ]
  },
  {
   "cell_type": "markdown",
   "metadata": {},
   "source": [
    "As can be seen the margin increases when the value of C is made very small."
   ]
  },
  {
   "cell_type": "markdown",
   "metadata": {},
   "source": [
    "## Task 2 (4+8+8=20 pts)\n",
    "\n",
    "### Given the dataset provided below, answer the following two questions:"
   ]
  },
  {
   "cell_type": "code",
   "execution_count": 26,
   "metadata": {},
   "outputs": [
    {
     "data": {
      "image/png": "[encoded data removed]",
      "text/plain": [
       "<matplotlib.figure.Figure at 0x7fb1fb7afb10>"
      ]
     },
     "metadata": {},
     "output_type": "display_data"
    }
   ],
   "source": [
    "# Data \n",
    "data2=pd.read_csv('HW2_task2.csv')\n",
    "X=data2.iloc[:,:2]\n",
    "Y=data2.iloc[:,2]\n",
    "\n",
    "plt.gca()\n",
    "plt.scatter(X.iloc[:,0], X.iloc[:,1], s=50, c=Y, cmap=plt.cm.get_cmap('coolwarm', 2));\n",
    "plt.show()\n",
    "\n",
    "# Generate training (X_train, Y_train) and testing (X_test, Y_test) datasets for out of sample test\n",
    "from sklearn.model_selection import train_test_split\n",
    "X_train, X_test, Y_train, Y_test = train_test_split(X, Y, test_size=0.33, random_state=1)"
   ]
  },
  {
   "cell_type": "markdown",
   "metadata": {},
   "source": [
    "### a. Train a polynomial SVM using the training set. Use the default arguments, and report both in-sample (training set) and out-of-sample (test set) classification accuracy."
   ]
  },
  {
   "cell_type": "code",
   "execution_count": 27,
   "metadata": {},
   "outputs": [
    {
     "name": "stdout",
     "output_type": "stream",
     "text": [
      "In sample, we successfully predict 81.3432835821 percent of the data\n",
      "Out of sample, we successfully predict 82.7272727273 percent of the data\n"
     ]
    }
   ],
   "source": [
    "# your code here\n",
    "clf = svm.SVC(kernel=\"poly\") \n",
    "clf.fit(X_train, Y_train)\n",
    "correctIn=1.0*(clf.predict(X_train)==np.asarray(Y_train)).sum()/len(Y_train)\n",
    "correctOut=1.0*(clf.predict(X_test)==np.asarray(Y_test)).sum()/len(Y_test)\n",
    "print(\"In sample, we successfully predict {} percent of the data\".format((correctIn)*100))\n",
    "print(\"Out of sample, we successfully predict {} percent of the data\".format((correctOut)*100))"
   ]
  },
  {
   "cell_type": "markdown",
   "metadata": {},
   "source": [
    "### Next we will use the validation subset in order to pick the optimal parameters for the polynomial model.\n",
    "\n",
    "### b. Try polynomials of degree 1,2,3,4. For each degree, consider a variety of regularization constants from the range C=[math.exp(i) for i in np.linspace(-10,2*degree,200)] in order to evaluate the classifier performance over the validation set defined below.  Plot the graph of \"Accuracy vs log(C)\" for each degree.\n"
   ]
  },
  {
   "cell_type": "code",
   "execution_count": 28,
   "metadata": {},
   "outputs": [
    {
     "name": "stderr",
     "output_type": "stream",
     "text": [
      "/usr/local/Anaconda3-5.0.0-Linux-x86_64/envs/PUI2016_Python2/lib/python2.7/site-packages/matplotlib/axes/_axes.py:545: UserWarning: No labelled objects found. Use label='...' kwarg on individual plots.\n",
      "  warnings.warn(\"No labelled objects found. \"\n"
     ]
    },
    {
     "data": {
      "image/png": "[encoded data removed]",
      "text/plain": [
       "<matplotlib.figure.Figure at 0x7fb1fb983590>"
      ]
     },
     "metadata": {},
     "output_type": "display_data"
    },
    {
     "data": {
      "image/png": "[encoded data removed]",
      "text/plain": [
       "<matplotlib.figure.Figure at 0x7fb1fb7af590>"
      ]
     },
     "metadata": {},
     "output_type": "display_data"
    },
    {
     "data": {
      "image/png": "[encoded data removed]",
      "text/plain": [
       "<matplotlib.figure.Figure at 0x7fb1f9c50b50>"
      ]
     },
     "metadata": {},
     "output_type": "display_data"
    },
    {
     "data": {
      "image/png": "[encoded data removed]",
      "text/plain": [
       "<matplotlib.figure.Figure at 0x7fb1fb6b1090>"
      ]
     },
     "metadata": {},
     "output_type": "display_data"
    }
   ],
   "source": [
    "# Next we generate validation data (X_vali, Y_vali) from the training dataset. \n",
    "# Denote the remaining training data by (X_train_1, Y_train_1).\n",
    "X_train_1,X_vali,Y_train_1,Y_vali = train_test_split(X_train, Y_train, test_size=0.33, random_state=99) \n",
    "# your code here\n",
    "for degree in range(1,5):\n",
    "    OS_validation=[]\n",
    "    C = []\n",
    "    for i in np.linspace(-10,2*degree,200):\n",
    "        C.append(math.exp(i))\n",
    "        clf = svm.SVC(kernel='poly',degree=degree, C=math.exp(i)) \n",
    "        clf.fit(X_train_1, Y_train_1)\n",
    "        correct=1.0*(clf.predict(X_vali)==np.asarray(Y_vali)).sum()/len(Y_vali) # OS score for validation set\n",
    "        OS_validation.append(correct)\n",
    "    plt.gca()\n",
    "    plt.plot([np.log(y) for y in C],OS_validation,'b',)\n",
    "    plt.legend(loc='upper right')\n",
    "    plt.ylabel('Accuracy')\n",
    "    plt.xlabel('log(C)')\n",
    "    plt.title(\"For degree \" + str(degree))\n",
    "    plt.show()"
   ]
  },
  {
   "cell_type": "markdown",
   "metadata": {},
   "source": [
    "### c. Choose the optimal degree and the optimal regularization constant C based on these graphs.  Use the optimal degree and C to compute and report the final out-of-sample accuracy of the best classification model selected. "
   ]
  },
  {
   "cell_type": "code",
   "execution_count": 29,
   "metadata": {},
   "outputs": [
    {
     "name": "stdout",
     "output_type": "stream",
     "text": [
      "Out of sample, we successfully predict 87.5757575758 percent of the data\n"
     ]
    }
   ],
   "source": [
    "# your code here\n",
    "clf = svm.SVC(kernel=\"poly\", degree =3 , C= math.exp(4)) \n",
    "clf.fit(X_train, Y_train)\n",
    "correctOut=1.0*(clf.predict(X_test)==np.asarray(Y_test)).sum()/len(Y_test)\n",
    "print(\"Out of sample, we successfully predict {} percent of the data\".format((correctOut)*100))"
   ]
  },
  {
   "cell_type": "markdown",
   "metadata": {},
   "source": [
    "## Task 3 (5+5=10pts).\n",
    "\n",
    "### This task is to be done by hand rather than using Python.\n",
    "\n",
    "Assume you have a data set as below. It contains records of cars with three features: the type of the car (sports or SUV), the color of the car (red or yellow), and the origin of the car (domestic or imported). And the labels for the data are yes (car was stolen) and no (car was not stolen).\n",
    "\n",
    "CarType,Color,Origin,Stolen?\n",
    "\n",
    "sports,red,domestic,yes\n",
    "\n",
    "sports,red,domestic,yes\n",
    "\n",
    "sports,red,domestic,yes\n",
    "\n",
    "sports,red,domestic,no\n",
    "\n",
    "SUV,red,domestic,no\n",
    "\n",
    "SUV,red,imported,yes\n",
    "\n",
    "SUV,yellow,imported,no\n",
    "\n",
    "SUV,yellow,imported,yes\n",
    "\n",
    "SUV,yellow,domestic,no\n",
    "\n",
    "sports,yellow,imported,no\n",
    "\n",
    "sports,red,imported,yes\n",
    "\n",
    "\n",
    "### a) Calculate the following sample probabilities:\n",
    "\n",
    "P(Yes) - 6/11\n",
    "\n",
    "P(No)  - 5/11\n",
    "\n",
    "P(Red|Yes) - 5/6\n",
    "\n",
    "P(SUV|Yes) -2 /6 = 1/3\n",
    "\n",
    "P(Domestic|Yes) - 3/6 = 1/2\n",
    "\n",
    "P(Red|No) - 2/5\n",
    "\n",
    "P(SUV|No)  3/5\n",
    "\n",
    "P(Domestic|No) 3/5\n",
    "\n",
    "### b) Using naive Bayes classification, what is the probability that a red, domestic SUV will be stolen? Show your work.\n",
    "\n",
    "             Class       Color = Red     Origin = domestic      Type = SUV         Total Liklihood\n",
    "        Stolen = yes       5/6              1/2                   1/3                 0.138\n",
    "        Stolen = no        2/5              3/5                   3/5                 0.144\n",
    "        \n",
    "        \n",
    "            Class       Total Likelihood     Prior       Unnormalized posterior    Posterior\n",
    "        Stolen =yes         0.138             6/11         0.0752727               0.5383\n",
    "        Stolen = no         0.144             5/11         0.0654545               0.4681\n",
    "                                                          ------------\n",
    "                                                          0.1398177\n",
    "              "
   ]
  },
  {
   "cell_type": "markdown",
   "metadata": {},
   "source": [
    "## Task 4 (4+2+2+2=10pts)\n",
    "\n",
    "Consider the following problem involving Gaussian Naive Bayes classification.  We use eight factors to predict if people have diabetes or not. The variables are:\n",
    "\n",
    "y: The label (0 - no diabetes, 1 - diabetes)\n",
    "\n",
    "t_pre: Number of times pregnant\n",
    "\n",
    "glu: Plasma glucose concentration a 2 hours in an oral glucose tolerance test\n",
    "\n",
    "blood_p: Diastolic blood pressure (mm Hg)\n",
    "\n",
    "triceps: Triceps skin fold thickness (mm)\n",
    "\n",
    "serum: 2-Hour serum insulin (mu U/ml)\n",
    "\n",
    "b_m: Body mass index (weight in kg/(height in m)^2)\n",
    "\n",
    "pedigree_f: Diabetes pedigree function\n",
    "\n",
    "age: Age (years)\n",
    "\n",
    "### Using the data provided below, learn a Naive Bayes classifier from the training data and answer the following questions: "
   ]
  },
  {
   "cell_type": "code",
   "execution_count": 4,
   "metadata": {},
   "outputs": [
    {
     "name": "stdout",
     "output_type": "stream",
     "text": [
      "   t_pre    glu  blood_p  triceps  serum   b_m  pedigree_f   age\n",
      "0    3.0  158.0     64.0     13.0  387.0  31.2       0.295  24.0\n",
      "1    0.0   84.0     64.0     22.0   66.0  35.8       0.545  21.0\n",
      "2    9.0  120.0     72.0     22.0   56.0  20.8       0.733  48.0\n",
      "3    4.0  110.0     76.0     20.0  100.0  28.4       0.118  27.0\n",
      "4    2.0  100.0     66.0     20.0   90.0  32.9       0.867  28.0\n"
     ]
    }
   ],
   "source": [
    "# Training data\n",
    "data_train=pd.read_csv(\"HW2_task4_train.csv\") \n",
    "y_train=data_train.iloc[:,1] \n",
    "X_train=data_train.iloc[:,2:] \n",
    "\n",
    "# Testing data\n",
    "data_test=pd.read_csv(\"HW2_task4_test.csv\")\n",
    "y_test=data_test.iloc[:,1]\n",
    "X_test=data_test.iloc[:,2:]\n",
    "\n",
    "print X_train.head()"
   ]
  },
  {
   "cell_type": "code",
   "execution_count": 9,
   "metadata": {},
   "outputs": [
    {
     "name": "stdout",
     "output_type": "stream",
     "text": [
      "0    0.0\n",
      "1    0.0\n",
      "2    0.0\n",
      "3    0.0\n",
      "4    1.0\n",
      "Name: y, dtype: float64\n"
     ]
    }
   ],
   "source": [
    "print y_train.head()"
   ]
  },
  {
   "cell_type": "markdown",
   "metadata": {},
   "source": [
    "### a) What is the prediction accuracy for Naive Bayes, both in sample (on the training data) and out of sample (on the test data)?"
   ]
  },
  {
   "cell_type": "code",
   "execution_count": 5,
   "metadata": {},
   "outputs": [],
   "source": [
    "# your code here\n",
    "def trainGaussianNaiveBayes(X,y):\n",
    "    prior = 1.*y.sum()/y.count()\n",
    "    nbc = {'prior':prior}\n",
    "    X_1 = X[y==1]\n",
    "    X_0 = X[y==0]\n",
    "    for j in X.columns:\n",
    "        nbc[j+'_mu1'] = X_1[j].mean()\n",
    "        nbc[j+'_sigma1'] = X_1[j].std()\n",
    "        nbc[j+'_mu0'] = X_0[j].mean()\n",
    "        nbc[j+'_sigma0'] = X_0[j].std()\n",
    "    return nbc\n",
    "\n",
    "def testGaussianNaiveBayes(X,nbc):\n",
    "    y_pred = pd.Series(index=X.index)\n",
    "    for i in X.index:\n",
    "        # compute odds of y=1\n",
    "        y_pred[i] = nbc['prior']/(1-nbc['prior']) # prior odds\n",
    "        for j in X.columns:\n",
    "            thevalue = X.loc[i,j]\n",
    "            pdf1 = stats.norm.pdf(thevalue,loc=nbc[j+'_mu1'],scale=nbc[j+'_sigma1'])\n",
    "            pdf0 = stats.norm.pdf(thevalue,loc=nbc[j+'_mu0'],scale=nbc[j+'_sigma0'])\n",
    "            y_pred[i] = y_pred[i]*pdf1/pdf0 if pdf0 > 0 else 1E10\n",
    "        # convert odds to probability of y=1\n",
    "        y_pred[i] = y_pred[i]/(1.0+y_pred[i])\n",
    "    return y_pred"
   ]
  },
  {
   "cell_type": "code",
   "execution_count": 10,
   "metadata": {},
   "outputs": [
    {
     "name": "stdout",
     "output_type": "stream",
     "text": [
      "In sample prediction accuracy: 0.762711864407\n",
      "Out of sample prediction accuracy: 0.791139240506\n"
     ]
    }
   ],
   "source": [
    "naive_bayes_classifier = trainGaussianNaiveBayes(X_train,y_train)\n",
    "y_pred_train = testGaussianNaiveBayes(X_train,naive_bayes_classifier)\n",
    "y_pred_test = testGaussianNaiveBayes(X_test,naive_bayes_classifier)\n",
    "\n",
    "# measure accuracy for the binary prediction task\n",
    "print 'In sample prediction accuracy:',1.0*sum((y_pred_train>0.5)==y_train)/len(y_train)\n",
    "print 'Out of sample prediction accuracy:',1.0*sum((y_pred_test>0.5)==y_test)/len(y_test)"
   ]
  },
  {
   "cell_type": "markdown",
   "metadata": {},
   "source": [
    "### b) What is the prior probability of diabetes, learned from the training data?"
   ]
  },
  {
   "cell_type": "code",
   "execution_count": 11,
   "metadata": {},
   "outputs": [
    {
     "name": "stdout",
     "output_type": "stream",
     "text": [
      "The prior probability learned from training data is 0.300847457627\n"
     ]
    }
   ],
   "source": [
    "# your code here\n",
    "print(\"The prior probability learned from training data is \" + str(naive_bayes_classifier['prior']))"
   ]
  },
  {
   "cell_type": "markdown",
   "metadata": {},
   "source": [
    "### c) What is the mean and variance of each input variable for patients with diabetes?"
   ]
  },
  {
   "cell_type": "code",
   "execution_count": 14,
   "metadata": {},
   "outputs": [
    {
     "name": "stdout",
     "output_type": "stream",
     "text": [
      "With diabetes\n",
      "Mean t_pre : 4.07042253521\n",
      "Sigma t_pre : 3.51861963057\n",
      "Mean glu : 144.14084507\n",
      "Sigma glu : 30.626457178\n",
      "Mean blood_p : 74.5633802817\n",
      "Sigma blood_p : 13.7993088796\n",
      "Mean triceps : 33.4788732394\n",
      "Sigma triceps : 9.76269745354\n",
      "Mean serum : 209.211267606\n",
      "Sigma serum : 126.921000794\n",
      "Mean b_m : 35.223943662\n",
      "Sigma b_m : 6.25849057084\n",
      "Mean pedigree_f : 0.639042253521\n",
      "Sigma pedigree_f : 0.439042023261\n",
      "Mean age : 35.7887323944\n",
      "Sigma age : 10.2635492231\n"
     ]
    }
   ],
   "source": [
    "# your code here\n",
    "print(\"With diabetes\")\n",
    "for j in X_train.columns:\n",
    "    print(\"Mean \" + j + \" : \" + str( str(naive_bayes_classifier[j + '_mu1'])))\n",
    "    print(\"Sigma \" + j + \" : \" + str( str(naive_bayes_classifier[j + '_sigma1'])))"
   ]
  },
  {
   "cell_type": "markdown",
   "metadata": {},
   "source": [
    "### d) What is the mean and variance of each input variable for patients without diabetes?"
   ]
  },
  {
   "cell_type": "code",
   "execution_count": 15,
   "metadata": {},
   "outputs": [
    {
     "name": "stdout",
     "output_type": "stream",
     "text": [
      "Without diabetes\n",
      "Mean t_pre : 2.69090909091\n",
      "Sigma t_pre : 2.6100606988\n",
      "Mean glu : 111.466666667\n",
      "Sigma glu : 24.6918899822\n",
      "Mean blood_p : 69.2060606061\n",
      "Sigma blood_p : 11.7132908509\n",
      "Mean triceps : 27.2\n",
      "Sigma triceps : 10.4369185248\n",
      "Mean serum : 127.006060606\n",
      "Sigma serum : 91.4861376258\n",
      "Mean b_m : 31.7090909091\n",
      "Sigma b_m : 6.33761340575\n",
      "Mean pedigree_f : 0.468684848485\n",
      "Sigma pedigree_f : 0.291750327733\n",
      "Mean age : 28.3939393939\n",
      "Sigma age : 8.53736191168\n"
     ]
    }
   ],
   "source": [
    "# your code here\n",
    "# your code here\n",
    "print(\"Without diabetes\")\n",
    "for j in X_train.columns:\n",
    "    print(\"Mean \" + j + \" : \" + str( str(naive_bayes_classifier[j + '_mu0'])))\n",
    "    print(\"Sigma \" + j + \" : \" + str( str(naive_bayes_classifier[j + '_sigma0'])))"
   ]
  },
  {
   "cell_type": "markdown",
   "metadata": {},
   "source": [
    "## Task 5 (10+15=25 pts)\n",
    "\n",
    "We have an artificial data set split, where the training set contains both labeled and unlabeled data. Column 'y' is the label, and columns '0','1','2' are categorical variables."
   ]
  },
  {
   "cell_type": "code",
   "execution_count": 16,
   "metadata": {},
   "outputs": [
    {
     "name": "stdout",
     "output_type": "stream",
     "text": [
      "   0  1  2\n",
      "0  4  6  6\n",
      "1  2  2  2\n",
      "2  2  6  2\n",
      "3  6  6  6\n",
      "4  1  2  2\n",
      "5  3  4  4\n",
      "6  6  1  6\n",
      "7  1  3  1\n",
      "8  5  1  6\n",
      "0    0\n",
      "1    1\n",
      "2    0\n",
      "3    0\n",
      "4    1\n",
      "5    0\n",
      "6    0\n",
      "7    1\n",
      "8    1\n",
      "Name: y, dtype: int64\n"
     ]
    }
   ],
   "source": [
    "data_train=pd.read_csv(\"HW2_task5_train.csv\")\n",
    "y_Labeled_train=data_train.iloc[:,1] \n",
    "X_Labeled_train=data_train.iloc[:,2:] \n",
    "\n",
    "data_test=pd.read_csv(\"HW2_task5_test.csv\")\n",
    "y_Labeled_test=data_test.iloc[:,1]\n",
    "X_Labeled_test=data_test.iloc[:,2:]\n",
    "\n",
    "data_Unlabeled=pd.read_csv(\"HW2_task5_unlabeled.csv\")\n",
    "X_Unlabeled_train=data_Unlabeled.iloc[:,1:]\n",
    "\n",
    "print X_Labeled_train\n",
    "print y_Labeled_train"
   ]
  },
  {
   "cell_type": "markdown",
   "metadata": {},
   "source": [
    "### a) Learn a discrete Naive Bayes classifier from  X_Labeled_train, use it to predict the labels of X_Labeled_test, and report the classification accuracy."
   ]
  },
  {
   "cell_type": "code",
   "execution_count": 19,
   "metadata": {},
   "outputs": [
    {
     "name": "stdout",
     "output_type": "stream",
     "text": [
      "\n"
     ]
    }
   ],
   "source": [
    "# your code here\n",
    "def trainNaiveBayesDiscrete(X,y):\n",
    "    prior = 1.*y.sum()/y.count()\n",
    "    nbc = {'prior':prior}\n",
    "    X_1 = X[y==1]\n",
    "    X_0 = X[y==0]\n",
    "    for j in X.columns:\n",
    "        nbc[j+'_1'] = X_1[j].value_counts(normalize=True)\n",
    "        nbc[j+'_0'] = X_0[j].value_counts(normalize=True)\n",
    "    return nbc\n",
    "\n",
    "def testNaiveBayesDiscrete(X,nbc):\n",
    "    y_pred = pd.Series(index=X.index)\n",
    "    for i in X.index:\n",
    "        # compute odds of y=1\n",
    "        y_pred[i] = nbc['prior']/(1-nbc['prior']) # prior odds\n",
    "        for j in X.columns:\n",
    "            thevalue = X.loc[i,j]\n",
    "            if thevalue not in nbc[j+'_1']:\n",
    "                y_pred[i] = y_pred[i]*1E-3\n",
    "            if thevalue not in nbc[j+'_0']:\n",
    "                y_pred[i] = y_pred[i]*1E3\n",
    "            if (thevalue in nbc[j+'_1']) & (thevalue in nbc[j+'_0']):\n",
    "                y_pred[i] = y_pred[i]*(nbc[j+'_1'][thevalue]+1E-3)/(nbc[j+'_0'][thevalue]+1E-3)\n",
    "        # convert odds to probability of y=1\n",
    "        y_pred[i] = y_pred[i]/(1.0+y_pred[i])\n",
    "    return y_pred"
   ]
  },
  {
   "cell_type": "code",
   "execution_count": 21,
   "metadata": {},
   "outputs": [
    {
     "name": "stdout",
     "output_type": "stream",
     "text": [
      " 2_0\n",
      "6    0.6\n",
      "4    0.2\n",
      "2    0.2\n",
      "Name: 2, dtype: float64\n",
      "\n",
      "2_1\n",
      "2    0.50\n",
      "6    0.25\n",
      "1    0.25\n",
      "Name: 2, dtype: float64\n",
      "\n",
      "prior\n",
      "0.444444444444\n",
      "\n",
      "1_1\n",
      "2    0.50\n",
      "3    0.25\n",
      "1    0.25\n",
      "Name: 1, dtype: float64\n",
      "\n",
      "1_0\n",
      "6    0.6\n",
      "4    0.2\n",
      "1    0.2\n",
      "Name: 1, dtype: float64\n",
      "\n",
      "0_0\n",
      "6    0.4\n",
      "4    0.2\n",
      "3    0.2\n",
      "2    0.2\n",
      "Name: 0, dtype: float64\n",
      "\n",
      "0_1\n",
      "1    0.50\n",
      "5    0.25\n",
      "2    0.25\n",
      "Name: 0, dtype: float64\n",
      "\n",
      "Out of sample prediction accuracy: 0.694444444444\n"
     ]
    }
   ],
   "source": [
    "naive_bayes_classifier = trainNaiveBayesDiscrete(X_Labeled_train,y_Labeled_train)\n",
    "for i,j in naive_bayes_classifier.items():\n",
    "    print i\n",
    "    print j\n",
    "    print\n",
    "y_pred_test = testNaiveBayesDiscrete(X_Labeled_test,naive_bayes_classifier)\n",
    "\n",
    "# measure accuracy for the binary prediction task\n",
    "print 'Out of sample prediction accuracy:',1.0*sum((y_pred_test>0.5)==y_Labeled_test)/len(y_Labeled_test)"
   ]
  },
  {
   "cell_type": "markdown",
   "metadata": {},
   "source": [
    "### b) Improve the classification by using the unlabeled data, data_Unlabeled, and the EM semi-supervised algorithm to predict the labels of X_Labeled_test, and report the new accuracy."
   ]
  },
  {
   "cell_type": "code",
   "execution_count": 72,
   "metadata": {},
   "outputs": [],
   "source": [
    "def initializeNaiveBayesRandom(X_Unlabeled):\n",
    "    nbc = {'prior':0.5}\n",
    "    for j in X_Unlabeled.columns:\n",
    "        thevalues = X_Unlabeled[j].unique()\n",
    "        nbc[j+'_1'] = {}\n",
    "        nbc[j+'_0'] = {}\n",
    "        for jj in thevalues:\n",
    "            nbc[j+'_1'][jj] = np.random.rand()\n",
    "            nbc[j+'_0'][jj] = np.random.rand()\n",
    "    return nbc\n",
    "    \n",
    "def EM(X_Labeled,y_Labeled,X_Unlabeled,num_iters):\n",
    "\n",
    "    # initialize\n",
    "    \n",
    "    t = 0\n",
    "    \n",
    "    if len(y_Labeled) > 0:\n",
    "        nbc = trainNaiveBayesDiscrete(X_Labeled,y_Labeled)\n",
    "    else:\n",
    "        nbc = initializeNaiveBayesRandom(X_Unlabeled)\n",
    "    while True:\n",
    "        t = t + 1\n",
    "        print 'Iteration',t,'of',num_iters\n",
    "        \n",
    "        # E step - classify with nbc for unlabeled data only\n",
    "        y_pred_Unlabeled = testNaiveBayesDiscrete(X_Unlabeled,nbc)\n",
    "        \n",
    "        # M step\n",
    "        X_for_M_step = pd.concat([X_Labeled,X_Unlabeled]) \n",
    "        y_for_M_step = pd.concat([y_Labeled,y_pred_Unlabeled])\n",
    "        X_for_M_step.reset_index(inplace=True, drop=True)\n",
    "        y_for_M_step.reset_index(inplace=True, drop=True)\n",
    "        prior = 1.*y_for_M_step.sum()/y_for_M_step.count()\n",
    "        nbc = {'prior':prior}\n",
    "        for j in X_for_M_step.columns:\n",
    "            nbc[j+'_1'] = {}\n",
    "            nbc[j+'_0'] = {}\n",
    "            for theindex in X_for_M_step.index:\n",
    "                current_X = X_for_M_step.loc[theindex,j]\n",
    "                current_y = y_for_M_step.loc[theindex]\n",
    "                if current_X in nbc[j+'_1']:\n",
    "                    nbc[j+'_1'][current_X] += current_y\n",
    "                else:\n",
    "                    nbc[j+'_1'][current_X] = current_y\n",
    "                if current_X in nbc[j+'_0']:\n",
    "                    nbc[j+'_0'][current_X] += (1.0-current_y)\n",
    "                else:\n",
    "                    nbc[j+'_0'][current_X] = 1.0-current_y\n",
    "            # normalize probabilities\n",
    "            tempsum = 0.0\n",
    "            for k in nbc[j+'_1']:\n",
    "                tempsum += nbc[j+'_1'][k]\n",
    "            for k in nbc[j+'_1']:\n",
    "                nbc[j+'_1'][k] /= tempsum\n",
    "            tempsum = 0.0\n",
    "            for k in nbc[j+'_0']:\n",
    "                tempsum += nbc[j+'_0'][k]\n",
    "            for k in nbc[j+'_0']:\n",
    "                nbc[j+'_0'][k] /= tempsum            \n",
    "                       \n",
    "        if t==num_iters:\n",
    "            break\n",
    "            \n",
    "    return nbc"
   ]
  },
  {
   "cell_type": "code",
   "execution_count": 73,
   "metadata": {},
   "outputs": [
    {
     "name": "stdout",
     "output_type": "stream",
     "text": [
      "Iteration 1 of 50\n",
      "Iteration 2 of 50\n",
      "Iteration 3 of 50\n",
      "Iteration 4 of 50\n",
      "Iteration 5 of 50\n",
      "Iteration 6 of 50\n",
      "Iteration 7 of 50\n",
      "Iteration 8 of 50\n",
      "Iteration 9 of 50\n",
      "Iteration 10 of 50\n",
      "Iteration 11 of 50\n",
      "Iteration 12 of 50\n",
      "Iteration 13 of 50\n",
      "Iteration 14 of 50\n",
      "Iteration 15 of 50\n",
      "Iteration 16 of 50\n",
      "Iteration 17 of 50\n",
      "Iteration 18 of 50\n",
      "Iteration 19 of 50\n",
      "Iteration 20 of 50\n",
      "Iteration 21 of 50\n",
      "Iteration 22 of 50\n",
      "Iteration 23 of 50\n",
      "Iteration 24 of 50\n",
      "Iteration 25 of 50\n",
      "Iteration 26 of 50\n",
      "Iteration 27 of 50\n",
      "Iteration 28 of 50\n",
      "Iteration 29 of 50\n",
      "Iteration 30 of 50\n",
      "Iteration 31 of 50\n",
      "Iteration 32 of 50\n",
      "Iteration 33 of 50\n",
      "Iteration 34 of 50\n",
      "Iteration 35 of 50\n",
      "Iteration 36 of 50\n",
      "Iteration 37 of 50\n",
      "Iteration 38 of 50\n",
      "Iteration 39 of 50\n",
      "Iteration 40 of 50\n",
      "Iteration 41 of 50\n",
      "Iteration 42 of 50\n",
      "Iteration 43 of 50\n",
      "Iteration 44 of 50\n",
      "Iteration 45 of 50\n",
      "Iteration 46 of 50\n",
      "Iteration 47 of 50\n",
      "Iteration 48 of 50\n",
      "Iteration 49 of 50\n",
      "Iteration 50 of 50\n"
     ]
    }
   ],
   "source": [
    "naive_bayes_classifier=EM(X_Labeled_train,y_Labeled_train,X_Unlabeled_train,num_iters=50)"
   ]
  },
  {
   "cell_type": "code",
   "execution_count": 75,
   "metadata": {},
   "outputs": [
    {
     "name": "stdout",
     "output_type": "stream",
     "text": [
      " 2_0\n",
      "{1: 0.00025354452050004917, 2: 0.084939080833025996, 3: 0.036358313455009131, 4: 0.19283900666393208, 5: 0.33931687888851053, 6: 0.34629317563902229}\n",
      "\n",
      "2_1\n",
      "{1: 0.36586718258698719, 2: 0.31710895160554908, 3: 0.20817470715530623, 4: 0.036216587563218619, 5: 0.031043731015044373, 6: 0.041588840073894552}\n",
      "\n",
      "prior\n",
      "0.503145842065\n",
      "\n",
      "1_1\n",
      "{1: 0.25799300848729595, 2: 0.41243395492888707, 3: 0.21399585936170989, 4: 0.056379261226710727, 5: 0.058884844944028514, 6: 0.00031307105136778356}\n",
      "\n",
      "1_0\n",
      "{1: 0.0388739778201075, 2: 0.059026728962624044, 3: 0.012808508816437686, 4: 0.2253858291000968, 5: 0.24050345602398301, 6: 0.42340149927675091}\n",
      "\n",
      "0_0\n",
      "{1: 0.053677696846460732, 2: 0.054308972744212966, 3: 0.041124662528620876, 4: 0.33535932427302961, 5: 0.26837143165740662, 6: 0.24715791195026918}\n",
      "\n",
      "0_1\n",
      "{1: 0.40028192967985365, 2: 0.1904485153439564, 3: 0.23833629853694993, 4: 0.087254305713596741, 5: 0.083667857868886364, 6: 1.1092856756719274e-05}\n",
      "\n",
      "Out of sample prediction accuracy: 0.944444444444\n"
     ]
    }
   ],
   "source": [
    "for i,j in naive_bayes_classifier.items():\n",
    "    print i\n",
    "    print j\n",
    "    print\n",
    "y_pred_test = testNaiveBayesDiscrete(X_Labeled_test,naive_bayes_classifier)\n",
    "\n",
    "# measure accuracy for the binary prediction task\n",
    "print 'Out of sample prediction accuracy:',1.0*sum((y_pred_test>0.5)==y_Labeled_test)/len(y_Labeled_test)"
   ]
  },
  {
   "cell_type": "code",
   "execution_count": null,
   "metadata": {},
   "outputs": [],
   "source": []
  }
 ],
 "metadata": {
  "kernelspec": {
   "display_name": "PUI2016_Python2",
   "language": "python",
   "name": "pui2016_python2"
  },
  "language_info": {
   "codemirror_mode": {
    "name": "ipython",
    "version": 2
   },
   "file_extension": ".py",
   "mimetype": "text/x-python",
   "name": "python",
   "nbconvert_exporter": "python",
   "pygments_lexer": "ipython2",
   "version": "2.7.12"
  }
 },
 "nbformat": 4,
 "nbformat_minor": 1
}
